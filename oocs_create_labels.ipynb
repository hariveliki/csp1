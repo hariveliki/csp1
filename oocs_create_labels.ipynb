{
 "cells": [
  {
   "cell_type": "code",
   "execution_count": 18,
   "metadata": {},
   "outputs": [],
   "source": [
    "import json\n",
    "\n",
    "import pandas as pd \n",
    "import numpy as np\n",
    "import matplotlib.pyplot as plt\n",
    "import seaborn as sns"
   ]
  },
  {
   "cell_type": "code",
   "execution_count": 19,
   "metadata": {},
   "outputs": [
    {
     "name": "stderr",
     "output_type": "stream",
     "text": [
      "/var/folders/mw/x398f5s545bffd989r6xpm100000gp/T/ipykernel_2079/1406385456.py:1: DtypeWarning: Columns (7,8) have mixed types. Specify dtype option on import or set low_memory=False.\n",
      "  df = pd.read_csv('data/smartmeters_kanal_129.csv')\n"
     ]
    },
    {
     "data": {
      "text/html": [
       "<div>\n",
       "<style scoped>\n",
       "    .dataframe tbody tr th:only-of-type {\n",
       "        vertical-align: middle;\n",
       "    }\n",
       "\n",
       "    .dataframe tbody tr th {\n",
       "        vertical-align: top;\n",
       "    }\n",
       "\n",
       "    .dataframe thead th {\n",
       "        text-align: right;\n",
       "    }\n",
       "</style>\n",
       "<table border=\"1\" class=\"dataframe\">\n",
       "  <thead>\n",
       "    <tr style=\"text-align: right;\">\n",
       "      <th></th>\n",
       "      <th>Power</th>\n",
       "      <th>Timeslot</th>\n",
       "      <th>Datum</th>\n",
       "      <th>Kanal</th>\n",
       "      <th>Messpunkt_ID</th>\n",
       "      <th>Timestamp</th>\n",
       "      <th>Year</th>\n",
       "      <th>OHE_Labels</th>\n",
       "      <th>KLEINANSCHLUSS</th>\n",
       "    </tr>\n",
       "  </thead>\n",
       "  <tbody>\n",
       "    <tr>\n",
       "      <th>0</th>\n",
       "      <td>0.0250</td>\n",
       "      <td>00:00-00:15</td>\n",
       "      <td>20220301</td>\n",
       "      <td>1.29</td>\n",
       "      <td>CH1024201234500000000000010008561</td>\n",
       "      <td>2022-03-01 00:00:00</td>\n",
       "      <td>2022</td>\n",
       "      <td>[0, 0, 0, 0, 0, 0, 0, 0, 0, 0, 1, 0, 0, 0, 0]</td>\n",
       "      <td>Hausanschluss innen</td>\n",
       "    </tr>\n",
       "    <tr>\n",
       "      <th>1</th>\n",
       "      <td>0.0150</td>\n",
       "      <td>00:15-00:30</td>\n",
       "      <td>20220301</td>\n",
       "      <td>1.29</td>\n",
       "      <td>CH1024201234500000000000010008561</td>\n",
       "      <td>2022-03-01 00:15:00</td>\n",
       "      <td>2022</td>\n",
       "      <td>[0, 0, 0, 0, 0, 0, 0, 0, 0, 0, 1, 0, 0, 0, 0]</td>\n",
       "      <td>Hausanschluss innen</td>\n",
       "    </tr>\n",
       "    <tr>\n",
       "      <th>2</th>\n",
       "      <td>0.0200</td>\n",
       "      <td>00:30-00:45</td>\n",
       "      <td>20220301</td>\n",
       "      <td>1.29</td>\n",
       "      <td>CH1024201234500000000000010008561</td>\n",
       "      <td>2022-03-01 00:30:00</td>\n",
       "      <td>2022</td>\n",
       "      <td>[0, 0, 0, 0, 0, 0, 0, 0, 0, 0, 1, 0, 0, 0, 0]</td>\n",
       "      <td>Hausanschluss innen</td>\n",
       "    </tr>\n",
       "    <tr>\n",
       "      <th>3</th>\n",
       "      <td>0.0200</td>\n",
       "      <td>00:45-01:00</td>\n",
       "      <td>20220301</td>\n",
       "      <td>1.29</td>\n",
       "      <td>CH1024201234500000000000010008561</td>\n",
       "      <td>2022-03-01 00:45:00</td>\n",
       "      <td>2022</td>\n",
       "      <td>[0, 0, 0, 0, 0, 0, 0, 0, 0, 0, 1, 0, 0, 0, 0]</td>\n",
       "      <td>Hausanschluss innen</td>\n",
       "    </tr>\n",
       "    <tr>\n",
       "      <th>4</th>\n",
       "      <td>0.0175</td>\n",
       "      <td>01:00-01:15</td>\n",
       "      <td>20220301</td>\n",
       "      <td>1.29</td>\n",
       "      <td>CH1024201234500000000000010008561</td>\n",
       "      <td>2022-03-01 01:00:00</td>\n",
       "      <td>2022</td>\n",
       "      <td>[0, 0, 0, 0, 0, 0, 0, 0, 0, 0, 1, 0, 0, 0, 0]</td>\n",
       "      <td>Hausanschluss innen</td>\n",
       "    </tr>\n",
       "  </tbody>\n",
       "</table>\n",
       "</div>"
      ],
      "text/plain": [
       "    Power     Timeslot     Datum  Kanal                       Messpunkt_ID  \\\n",
       "0  0.0250  00:00-00:15  20220301   1.29  CH1024201234500000000000010008561   \n",
       "1  0.0150  00:15-00:30  20220301   1.29  CH1024201234500000000000010008561   \n",
       "2  0.0200  00:30-00:45  20220301   1.29  CH1024201234500000000000010008561   \n",
       "3  0.0200  00:45-01:00  20220301   1.29  CH1024201234500000000000010008561   \n",
       "4  0.0175  01:00-01:15  20220301   1.29  CH1024201234500000000000010008561   \n",
       "\n",
       "             Timestamp  Year                                     OHE_Labels  \\\n",
       "0  2022-03-01 00:00:00  2022  [0, 0, 0, 0, 0, 0, 0, 0, 0, 0, 1, 0, 0, 0, 0]   \n",
       "1  2022-03-01 00:15:00  2022  [0, 0, 0, 0, 0, 0, 0, 0, 0, 0, 1, 0, 0, 0, 0]   \n",
       "2  2022-03-01 00:30:00  2022  [0, 0, 0, 0, 0, 0, 0, 0, 0, 0, 1, 0, 0, 0, 0]   \n",
       "3  2022-03-01 00:45:00  2022  [0, 0, 0, 0, 0, 0, 0, 0, 0, 0, 1, 0, 0, 0, 0]   \n",
       "4  2022-03-01 01:00:00  2022  [0, 0, 0, 0, 0, 0, 0, 0, 0, 0, 1, 0, 0, 0, 0]   \n",
       "\n",
       "        KLEINANSCHLUSS  \n",
       "0  Hausanschluss innen  \n",
       "1  Hausanschluss innen  \n",
       "2  Hausanschluss innen  \n",
       "3  Hausanschluss innen  \n",
       "4  Hausanschluss innen  "
      ]
     },
     "execution_count": 19,
     "metadata": {},
     "output_type": "execute_result"
    }
   ],
   "source": [
    "df = pd.read_csv('data/smartmeters_kanal_129.csv')\n",
    "df.head()"
   ]
  },
  {
   "cell_type": "code",
   "execution_count": 22,
   "metadata": {},
   "outputs": [],
   "source": [
    "df = df[df[\"OHE_Labels\"].notna()]"
   ]
  },
  {
   "cell_type": "code",
   "execution_count": 23,
   "metadata": {},
   "outputs": [
    {
     "name": "stdout",
     "output_type": "stream",
     "text": [
      "Messpunkt_ID: 265\n"
     ]
    }
   ],
   "source": [
    "print(f\"Messpunkt_ID: {len(df['Messpunkt_ID'].unique())}\")"
   ]
  },
  {
   "cell_type": "code",
   "execution_count": 24,
   "metadata": {},
   "outputs": [],
   "source": [
    "# Convert string representation into a list\n",
    "df['OHE_Labels'] = df['OHE_Labels'].apply(lambda x: eval(x))"
   ]
  },
  {
   "cell_type": "code",
   "execution_count": 25,
   "metadata": {},
   "outputs": [
    {
     "data": {
      "text/plain": [
       "{'0': 'Autoladestation',\n",
       " '1': 'Beleuchtung',\n",
       " '2': 'Blockspeicher',\n",
       " '3': 'Boiler',\n",
       " '4': 'Direktheizung',\n",
       " '5': 'Doppeltarif Privatzähler',\n",
       " '6': 'Einspeiser Photovoltaik Anlage',\n",
       " '7': 'Einzelspeicher',\n",
       " '8': 'Saunaofen',\n",
       " '9': 'Tumbler',\n",
       " '10': 'Unknown',\n",
       " '11': 'WP Boiler',\n",
       " '12': 'Waschmaschine',\n",
       " '13': 'Waschmaschine und Tumbler',\n",
       " '14': 'Wärmepumpe'}"
      ]
     },
     "execution_count": 25,
     "metadata": {},
     "output_type": "execute_result"
    }
   ],
   "source": [
    "with open(\"data/oocs/idx2label_oocs.json\") as f:\n",
    "    idx2label = json.load(f)\n",
    "idx2label"
   ]
  },
  {
   "cell_type": "code",
   "execution_count": 26,
   "metadata": {},
   "outputs": [
    {
     "data": {
      "text/html": [
       "<div>\n",
       "<style scoped>\n",
       "    .dataframe tbody tr th:only-of-type {\n",
       "        vertical-align: middle;\n",
       "    }\n",
       "\n",
       "    .dataframe tbody tr th {\n",
       "        vertical-align: top;\n",
       "    }\n",
       "\n",
       "    .dataframe thead th {\n",
       "        text-align: right;\n",
       "    }\n",
       "</style>\n",
       "<table border=\"1\" class=\"dataframe\">\n",
       "  <thead>\n",
       "    <tr style=\"text-align: right;\">\n",
       "      <th></th>\n",
       "      <th>Power</th>\n",
       "      <th>Timeslot</th>\n",
       "      <th>Datum</th>\n",
       "      <th>Kanal</th>\n",
       "      <th>Messpunkt_ID</th>\n",
       "      <th>Timestamp</th>\n",
       "      <th>Year</th>\n",
       "      <th>OHE_Labels</th>\n",
       "      <th>KLEINANSCHLUSS</th>\n",
       "      <th>Autoladestation</th>\n",
       "      <th>...</th>\n",
       "      <th>Doppeltarif Privatzähler</th>\n",
       "      <th>Einspeiser Photovoltaik Anlage</th>\n",
       "      <th>Einzelspeicher</th>\n",
       "      <th>Saunaofen</th>\n",
       "      <th>Tumbler</th>\n",
       "      <th>Unknown</th>\n",
       "      <th>WP Boiler</th>\n",
       "      <th>Waschmaschine</th>\n",
       "      <th>Waschmaschine und Tumbler</th>\n",
       "      <th>Wärmepumpe</th>\n",
       "    </tr>\n",
       "  </thead>\n",
       "  <tbody>\n",
       "    <tr>\n",
       "      <th>0</th>\n",
       "      <td>0.0250</td>\n",
       "      <td>00:00-00:15</td>\n",
       "      <td>20220301</td>\n",
       "      <td>1.29</td>\n",
       "      <td>CH1024201234500000000000010008561</td>\n",
       "      <td>2022-03-01 00:00:00</td>\n",
       "      <td>2022</td>\n",
       "      <td>[0, 0, 0, 0, 0, 0, 0, 0, 0, 0, 1, 0, 0, 0, 0]</td>\n",
       "      <td>Hausanschluss innen</td>\n",
       "      <td>0</td>\n",
       "      <td>...</td>\n",
       "      <td>0</td>\n",
       "      <td>0</td>\n",
       "      <td>0</td>\n",
       "      <td>0</td>\n",
       "      <td>0</td>\n",
       "      <td>1</td>\n",
       "      <td>0</td>\n",
       "      <td>0</td>\n",
       "      <td>0</td>\n",
       "      <td>0</td>\n",
       "    </tr>\n",
       "    <tr>\n",
       "      <th>1</th>\n",
       "      <td>0.0150</td>\n",
       "      <td>00:15-00:30</td>\n",
       "      <td>20220301</td>\n",
       "      <td>1.29</td>\n",
       "      <td>CH1024201234500000000000010008561</td>\n",
       "      <td>2022-03-01 00:15:00</td>\n",
       "      <td>2022</td>\n",
       "      <td>[0, 0, 0, 0, 0, 0, 0, 0, 0, 0, 1, 0, 0, 0, 0]</td>\n",
       "      <td>Hausanschluss innen</td>\n",
       "      <td>0</td>\n",
       "      <td>...</td>\n",
       "      <td>0</td>\n",
       "      <td>0</td>\n",
       "      <td>0</td>\n",
       "      <td>0</td>\n",
       "      <td>0</td>\n",
       "      <td>1</td>\n",
       "      <td>0</td>\n",
       "      <td>0</td>\n",
       "      <td>0</td>\n",
       "      <td>0</td>\n",
       "    </tr>\n",
       "    <tr>\n",
       "      <th>2</th>\n",
       "      <td>0.0200</td>\n",
       "      <td>00:30-00:45</td>\n",
       "      <td>20220301</td>\n",
       "      <td>1.29</td>\n",
       "      <td>CH1024201234500000000000010008561</td>\n",
       "      <td>2022-03-01 00:30:00</td>\n",
       "      <td>2022</td>\n",
       "      <td>[0, 0, 0, 0, 0, 0, 0, 0, 0, 0, 1, 0, 0, 0, 0]</td>\n",
       "      <td>Hausanschluss innen</td>\n",
       "      <td>0</td>\n",
       "      <td>...</td>\n",
       "      <td>0</td>\n",
       "      <td>0</td>\n",
       "      <td>0</td>\n",
       "      <td>0</td>\n",
       "      <td>0</td>\n",
       "      <td>1</td>\n",
       "      <td>0</td>\n",
       "      <td>0</td>\n",
       "      <td>0</td>\n",
       "      <td>0</td>\n",
       "    </tr>\n",
       "    <tr>\n",
       "      <th>3</th>\n",
       "      <td>0.0200</td>\n",
       "      <td>00:45-01:00</td>\n",
       "      <td>20220301</td>\n",
       "      <td>1.29</td>\n",
       "      <td>CH1024201234500000000000010008561</td>\n",
       "      <td>2022-03-01 00:45:00</td>\n",
       "      <td>2022</td>\n",
       "      <td>[0, 0, 0, 0, 0, 0, 0, 0, 0, 0, 1, 0, 0, 0, 0]</td>\n",
       "      <td>Hausanschluss innen</td>\n",
       "      <td>0</td>\n",
       "      <td>...</td>\n",
       "      <td>0</td>\n",
       "      <td>0</td>\n",
       "      <td>0</td>\n",
       "      <td>0</td>\n",
       "      <td>0</td>\n",
       "      <td>1</td>\n",
       "      <td>0</td>\n",
       "      <td>0</td>\n",
       "      <td>0</td>\n",
       "      <td>0</td>\n",
       "    </tr>\n",
       "    <tr>\n",
       "      <th>4</th>\n",
       "      <td>0.0175</td>\n",
       "      <td>01:00-01:15</td>\n",
       "      <td>20220301</td>\n",
       "      <td>1.29</td>\n",
       "      <td>CH1024201234500000000000010008561</td>\n",
       "      <td>2022-03-01 01:00:00</td>\n",
       "      <td>2022</td>\n",
       "      <td>[0, 0, 0, 0, 0, 0, 0, 0, 0, 0, 1, 0, 0, 0, 0]</td>\n",
       "      <td>Hausanschluss innen</td>\n",
       "      <td>0</td>\n",
       "      <td>...</td>\n",
       "      <td>0</td>\n",
       "      <td>0</td>\n",
       "      <td>0</td>\n",
       "      <td>0</td>\n",
       "      <td>0</td>\n",
       "      <td>1</td>\n",
       "      <td>0</td>\n",
       "      <td>0</td>\n",
       "      <td>0</td>\n",
       "      <td>0</td>\n",
       "    </tr>\n",
       "  </tbody>\n",
       "</table>\n",
       "<p>5 rows × 24 columns</p>\n",
       "</div>"
      ],
      "text/plain": [
       "    Power     Timeslot     Datum  Kanal                       Messpunkt_ID  \\\n",
       "0  0.0250  00:00-00:15  20220301   1.29  CH1024201234500000000000010008561   \n",
       "1  0.0150  00:15-00:30  20220301   1.29  CH1024201234500000000000010008561   \n",
       "2  0.0200  00:30-00:45  20220301   1.29  CH1024201234500000000000010008561   \n",
       "3  0.0200  00:45-01:00  20220301   1.29  CH1024201234500000000000010008561   \n",
       "4  0.0175  01:00-01:15  20220301   1.29  CH1024201234500000000000010008561   \n",
       "\n",
       "             Timestamp  Year                                     OHE_Labels  \\\n",
       "0  2022-03-01 00:00:00  2022  [0, 0, 0, 0, 0, 0, 0, 0, 0, 0, 1, 0, 0, 0, 0]   \n",
       "1  2022-03-01 00:15:00  2022  [0, 0, 0, 0, 0, 0, 0, 0, 0, 0, 1, 0, 0, 0, 0]   \n",
       "2  2022-03-01 00:30:00  2022  [0, 0, 0, 0, 0, 0, 0, 0, 0, 0, 1, 0, 0, 0, 0]   \n",
       "3  2022-03-01 00:45:00  2022  [0, 0, 0, 0, 0, 0, 0, 0, 0, 0, 1, 0, 0, 0, 0]   \n",
       "4  2022-03-01 01:00:00  2022  [0, 0, 0, 0, 0, 0, 0, 0, 0, 0, 1, 0, 0, 0, 0]   \n",
       "\n",
       "        KLEINANSCHLUSS  Autoladestation  ...  Doppeltarif Privatzähler  \\\n",
       "0  Hausanschluss innen                0  ...                         0   \n",
       "1  Hausanschluss innen                0  ...                         0   \n",
       "2  Hausanschluss innen                0  ...                         0   \n",
       "3  Hausanschluss innen                0  ...                         0   \n",
       "4  Hausanschluss innen                0  ...                         0   \n",
       "\n",
       "   Einspeiser Photovoltaik Anlage  Einzelspeicher  Saunaofen  Tumbler  \\\n",
       "0                               0               0          0        0   \n",
       "1                               0               0          0        0   \n",
       "2                               0               0          0        0   \n",
       "3                               0               0          0        0   \n",
       "4                               0               0          0        0   \n",
       "\n",
       "   Unknown  WP Boiler  Waschmaschine  Waschmaschine und Tumbler  Wärmepumpe  \n",
       "0        1          0              0                          0           0  \n",
       "1        1          0              0                          0           0  \n",
       "2        1          0              0                          0           0  \n",
       "3        1          0              0                          0           0  \n",
       "4        1          0              0                          0           0  \n",
       "\n",
       "[5 rows x 24 columns]"
      ]
     },
     "execution_count": 26,
     "metadata": {},
     "output_type": "execute_result"
    }
   ],
   "source": [
    "for idx, label in idx2label.items():\n",
    "    df[label] = df['OHE_Labels'].apply(lambda x: x[int(idx)])\n",
    "df.head()"
   ]
  },
  {
   "cell_type": "code",
   "execution_count": 27,
   "metadata": {},
   "outputs": [],
   "source": [
    "df['Timestamp'] = pd.to_datetime(df['Timestamp'])"
   ]
  },
  {
   "cell_type": "code",
   "execution_count": 8,
   "metadata": {},
   "outputs": [],
   "source": [
    "# def filter_one_year(group):\n",
    "#     start_date = group['Timestamp'].min()\n",
    "#     end_date = start_date + pd.DateOffset(years=1)\n",
    "#     return group[(group['Timestamp'] >= start_date) & (group['Timestamp'] < end_date)]"
   ]
  },
  {
   "cell_type": "code",
   "execution_count": 9,
   "metadata": {},
   "outputs": [],
   "source": [
    "# one_year_df = df.groupby('Messpunkt_ID').apply(filter_one_year).reset_index(drop=True)"
   ]
  },
  {
   "cell_type": "code",
   "execution_count": 10,
   "metadata": {},
   "outputs": [],
   "source": [
    "# print(f\"Length of original df: {len(df)}\")\n",
    "# print(f\"Length of one year df: {len(one_year_df)}\")"
   ]
  },
  {
   "cell_type": "code",
   "execution_count": 28,
   "metadata": {},
   "outputs": [],
   "source": [
    "import os\n",
    "for idx, device in idx2label.items():\n",
    "    device_df = df.groupby('Messpunkt_ID')[device].max().reset_index()\n",
    "    device_df.columns = ['id', 'label']\n",
    "    if \"/\" in device:\n",
    "        filename = f'{device.replace(\"/\", \"_\").lower()}.csv'\n",
    "    else:\n",
    "        filename = f'{device.replace(\" \", \"_\").lower()}.csv'\n",
    "    try:\n",
    "        device_df.to_csv(f'labels/{filename}', index=False)\n",
    "    except:\n",
    "        print(f'Error with filename: {filename}')"
   ]
  },
  {
   "cell_type": "code",
   "execution_count": 12,
   "metadata": {},
   "outputs": [],
   "source": [
    "# # save one_year_df to csv\n",
    "# one_year_df.to_csv('data/oocs/oocs_timestamp_ohe_one_year.csv', index=False)"
   ]
  },
  {
   "cell_type": "code",
   "execution_count": 29,
   "metadata": {},
   "outputs": [
    {
     "data": {
      "text/plain": [
       "265"
      ]
     },
     "execution_count": 29,
     "metadata": {},
     "output_type": "execute_result"
    }
   ],
   "source": [
    "len(df[\"Messpunkt_ID\"].unique())"
   ]
  },
  {
   "cell_type": "code",
   "execution_count": null,
   "metadata": {},
   "outputs": [],
   "source": []
  }
 ],
 "metadata": {
  "kernelspec": {
   "display_name": "csp1",
   "language": "python",
   "name": "python3"
  },
  "language_info": {
   "codemirror_mode": {
    "name": "ipython",
    "version": 3
   },
   "file_extension": ".py",
   "mimetype": "text/x-python",
   "name": "python",
   "nbconvert_exporter": "python",
   "pygments_lexer": "ipython3",
   "version": "3.10.13"
  }
 },
 "nbformat": 4,
 "nbformat_minor": 2
}
